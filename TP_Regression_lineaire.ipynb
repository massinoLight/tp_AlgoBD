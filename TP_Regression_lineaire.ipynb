{
  "nbformat": 4,
  "nbformat_minor": 0,
  "metadata": {
    "colab": {
      "name": "TP_Regression_lineaire.ipynb",
      "provenance": [],
      "collapsed_sections": [],
      "authorship_tag": "ABX9TyNoTs6YdcN5qJZEBWiSR7BG",
      "include_colab_link": true
    },
    "kernelspec": {
      "name": "python3",
      "display_name": "Python 3"
    },
    "language_info": {
      "name": "python"
    }
  },
  "cells": [
    {
      "cell_type": "markdown",
      "metadata": {
        "id": "view-in-github",
        "colab_type": "text"
      },
      "source": [
        "<a href=\"https://colab.research.google.com/github/massinoLight/tp_AlgoBD/blob/main/TP_Regression_lineaire.ipynb\" target=\"_parent\"><img src=\"https://colab.research.google.com/assets/colab-badge.svg\" alt=\"Open In Colab\"/></a>"
      ]
    },
    {
      "cell_type": "code",
      "execution_count": 4,
      "metadata": {
        "colab": {
          "base_uri": "https://localhost:8080/"
        },
        "id": "wP5RAMx63Z-S",
        "outputId": "1637a1e6-c732-4ff3-ccdb-4c6b049b4511"
      },
      "outputs": [
        {
          "output_type": "stream",
          "name": "stdout",
          "text": [
            "Requirement already satisfied: pyspark in /usr/local/lib/python3.7/dist-packages (3.2.1)\n",
            "Requirement already satisfied: py4j==0.10.9.3 in /usr/local/lib/python3.7/dist-packages (from pyspark) (0.10.9.3)\n"
          ]
        }
      ],
      "source": [
        "pip install pyspark"
      ]
    },
    {
      "cell_type": "markdown",
      "source": [
        "##On charge le jeu de données"
      ],
      "metadata": {
        "id": "Ta-4dizmSdba"
      }
    },
    {
      "cell_type": "code",
      "source": [
        "import requests \n",
        "file_url = \"https://raw.githubusercontent.com/apache/spark/master/data/mllib/ridge-data/lpsa.data\"\n",
        "\t\n",
        "r = requests.get(file_url, stream = True) \n",
        "\n",
        "with open(\"/content/sample_data/lpsa.data\", \"wb\") as file: \n",
        "\tfor block in r.iter_content(chunk_size = 1024): \n",
        "\t\tif block: \n",
        "\t\t\tfile.write(block) "
      ],
      "metadata": {
        "id": "qeqX-Cm835mw"
      },
      "execution_count": 5,
      "outputs": []
    },
    {
      "cell_type": "markdown",
      "source": [
        "##Spark context"
      ],
      "metadata": {
        "id": "lKD6MtTOSaQa"
      }
    },
    {
      "cell_type": "code",
      "source": [
        "from pyspark import SparkContext\n",
        "# $example on$\n",
        "from pyspark.mllib.regression import LabeledPoint, LinearRegressionWithSGD, LinearRegressionModel\n",
        "\n",
        "sc = SparkContext(appName=\"PythonLinearRegressionWithSGDExample\")"
      ],
      "metadata": {
        "id": "_FAShlICSWb0"
      },
      "execution_count": 6,
      "outputs": []
    },
    {
      "cell_type": "markdown",
      "source": [
        "##Fonction pour préparer le jeux de données"
      ],
      "metadata": {
        "id": "VW645XPUStPI"
      }
    },
    {
      "cell_type": "code",
      "source": [
        "def parsePoint(line):\n",
        "        values = [float(x) for x in line.replace(',', ' ').split(' ')]\n",
        "        return LabeledPoint(values[0], values[1:])"
      ],
      "metadata": {
        "id": "cpAT35hiSriy"
      },
      "execution_count": 7,
      "outputs": []
    },
    {
      "cell_type": "markdown",
      "source": [
        "##On applique le modéle a notre jeux de données que prépare au fur et a mesure (nb iterations=100)"
      ],
      "metadata": {
        "id": "JCpc0TNxTSxW"
      }
    },
    {
      "cell_type": "code",
      "source": [
        "data = sc.textFile(\"/content/sample_data/lpsa.data\")\n",
        "parsedData = data.map(parsePoint)\n",
        "\n",
        "model = LinearRegressionWithSGD.train(parsedData, iterations=100, step=0.00000001)\n",
        "\n",
        "valuesAndPreds = parsedData.map(lambda p: (p.label, model.predict(p.features)))\n",
        "MSE = valuesAndPreds \\\n",
        "        .map(lambda vp: (vp[0] - vp[1])**2) \\\n",
        "        .reduce(lambda x, y: x + y) / valuesAndPreds.count()\n",
        "print(\"Mean Squared Error = \" + str(MSE))\n",
        "\n",
        "    "
      ],
      "metadata": {
        "colab": {
          "base_uri": "https://localhost:8080/"
        },
        "id": "oFsOeOemSxW1",
        "outputId": "dfaaf763-e8bd-4ced-b661-675fb4f20926"
      },
      "execution_count": 8,
      "outputs": [
        {
          "output_type": "stream",
          "name": "stderr",
          "text": [
            "/usr/local/lib/python3.7/dist-packages/pyspark/mllib/regression.py:302: FutureWarning: Deprecated in 2.0.0. Use ml.regression.LinearRegression.\n",
            "  \"Deprecated in 2.0.0. Use ml.regression.LinearRegression.\", FutureWarning)\n"
          ]
        },
        {
          "output_type": "stream",
          "name": "stdout",
          "text": [
            "Mean Squared Error = 7.4510328101026015\n"
          ]
        }
      ]
    },
    {
      "cell_type": "code",
      "source": [
        "# Save and load model\n",
        "model.save(sc, \"model/LR/pythonLinearRegressionWithSGDModel\")\n",
        "sameModel = LinearRegressionModel.load(sc, \"model/LR/pythonLinearRegressionWithSGDModel\")"
      ],
      "metadata": {
        "id": "2PUgWbpeS7xC"
      },
      "execution_count": 9,
      "outputs": []
    }
  ]
}