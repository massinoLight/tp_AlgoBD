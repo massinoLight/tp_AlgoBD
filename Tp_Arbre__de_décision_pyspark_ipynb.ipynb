{
  "nbformat": 4,
  "nbformat_minor": 0,
  "metadata": {
    "colab": {
      "name": "Tp_Arbre_ de_décision_pyspark.ipynb.ipynb",
      "provenance": [],
      "collapsed_sections": [],
      "authorship_tag": "ABX9TyOgrs+FDbp8S+nH6PPfvuyW",
      "include_colab_link": true
    },
    "kernelspec": {
      "name": "python3",
      "display_name": "Python 3"
    },
    "language_info": {
      "name": "python"
    }
  },
  "cells": [
    {
      "cell_type": "markdown",
      "metadata": {
        "id": "view-in-github",
        "colab_type": "text"
      },
      "source": [
        "<a href=\"https://colab.research.google.com/github/massinoLight/tp_AlgoBD/blob/main/Tp_Arbre__de_d%C3%A9cision_pyspark_ipynb.ipynb\" target=\"_parent\"><img src=\"https://colab.research.google.com/assets/colab-badge.svg\" alt=\"Open In Colab\"/></a>"
      ]
    },
    {
      "cell_type": "code",
      "execution_count": 1,
      "metadata": {
        "colab": {
          "base_uri": "https://localhost:8080/"
        },
        "id": "JkDPQOEWKP50",
        "outputId": "db862e83-7eeb-4788-874c-44546c61eb73"
      },
      "outputs": [
        {
          "output_type": "stream",
          "name": "stdout",
          "text": [
            "Collecting pyspark\n",
            "  Downloading pyspark-3.2.1.tar.gz (281.4 MB)\n",
            "\u001b[K     |████████████████████████████████| 281.4 MB 34 kB/s \n",
            "\u001b[?25hCollecting py4j==0.10.9.3\n",
            "  Downloading py4j-0.10.9.3-py2.py3-none-any.whl (198 kB)\n",
            "\u001b[K     |████████████████████████████████| 198 kB 62.6 MB/s \n",
            "\u001b[?25hBuilding wheels for collected packages: pyspark\n",
            "  Building wheel for pyspark (setup.py) ... \u001b[?25l\u001b[?25hdone\n",
            "  Created wheel for pyspark: filename=pyspark-3.2.1-py2.py3-none-any.whl size=281853642 sha256=a1abca206a7471580e1e4a06fa8efe9419b5dd059329962a3c08d75c21ebf25d\n",
            "  Stored in directory: /root/.cache/pip/wheels/9f/f5/07/7cd8017084dce4e93e84e92efd1e1d5334db05f2e83bcef74f\n",
            "Successfully built pyspark\n",
            "Installing collected packages: py4j, pyspark\n",
            "Successfully installed py4j-0.10.9.3 pyspark-3.2.1\n"
          ]
        }
      ],
      "source": [
        "pip install pyspark"
      ]
    },
    {
      "cell_type": "code",
      "source": [
        "import requests \n",
        "file_url = \"https://raw.githubusercontent.com/apache/spark/master/data/mllib/sample_libsvm_data.txt\"\n",
        "\t\n",
        "r = requests.get(file_url, stream = True) \n",
        "\n",
        "with open(\"/content/sample_data/sample_libsvm_data.txt\", \"wb\") as file: \n",
        "\tfor block in r.iter_content(chunk_size = 1024): \n",
        "\t\tif block: \n",
        "\t\t\tfile.write(block) "
      ],
      "metadata": {
        "id": "0kQBWOOcKpKz"
      },
      "execution_count": 2,
      "outputs": []
    },
    {
      "cell_type": "code",
      "source": [
        "from pyspark import SparkContext\n",
        "# $example on$\n",
        "from pyspark.mllib.tree import DecisionTree, DecisionTreeModel\n",
        "from pyspark.mllib.util import MLUtils\n",
        "\n",
        "sc = SparkContext(appName=\"PythonDecisionTreeClassification\")"
      ],
      "metadata": {
        "id": "t5OR-iYpK9ty"
      },
      "execution_count": 3,
      "outputs": []
    },
    {
      "cell_type": "markdown",
      "source": [
        "##chargé le jeu de données et diviser en données d'entrainements et de tests "
      ],
      "metadata": {
        "id": "TcKb5Ru9Mmnl"
      }
    },
    {
      "cell_type": "code",
      "source": [
        "\n",
        "data = MLUtils.loadLibSVMFile(sc, '/content/sample_data/sample_libsvm_data.txt')\n",
        "# Split the data into training and test sets (30% held out for testing)\n",
        "(trainingData, testData) = data.randomSplit([0.7, 0.3])\n",
        "\n",
        "    \n",
        "\n",
        "# Save and load model\n",
        "\n"
      ],
      "metadata": {
        "id": "oy91KmqDLPjb"
      },
      "execution_count": 9,
      "outputs": []
    },
    {
      "cell_type": "markdown",
      "source": [
        "##derterminer notre modéle (nombre de class=2)"
      ],
      "metadata": {
        "id": "geTTpf71M6Yp"
      }
    },
    {
      "cell_type": "code",
      "source": [
        "# Train a DecisionTree model.\n",
        "    #  Empty categoricalFeaturesInfo indicates all features are continuous.\n",
        "model = DecisionTree.trainClassifier(trainingData, numClasses=2, categoricalFeaturesInfo={},\n",
        "                                         impurity='gini', maxDepth=5, maxBins=32)\n",
        "\n",
        "    # Evaluate model on test instances and compute test error\n",
        "predictions = model.predict(testData.map(lambda x: x.features))\n",
        "labelsAndPredictions = testData.map(lambda lp: lp.label).zip(predictions)\n",
        "testErr = labelsAndPredictions.filter(\n",
        "        lambda lp: lp[0] != lp[1]).count() / float(testData.count())\n",
        "print('Test Error = ' + str(testErr))\n",
        "print('Learned classification tree model:')\n",
        "print(model.toDebugString())"
      ],
      "metadata": {
        "id": "T8b9NkAdM3qO"
      },
      "execution_count": null,
      "outputs": []
    },
    {
      "cell_type": "markdown",
      "source": [
        "##pyspark permet de sauvegarder le modéle entrainé sauvegarder le modéle et de le charger en mémoire pour une autre utilisation"
      ],
      "metadata": {
        "id": "HQWlNqlvNEHD"
      }
    },
    {
      "cell_type": "code",
      "source": [
        "model.save(sc, \"model/DT/myDecisionTreeClassificationModel\")\n",
        "sameModel = DecisionTreeModel.load(sc, \"model/DT/myDecisionTreeClassificationModel\")"
      ],
      "metadata": {
        "id": "deWGx9RCNEao"
      },
      "execution_count": 10,
      "outputs": []
    }
  ]
}