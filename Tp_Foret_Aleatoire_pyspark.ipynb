{
  "nbformat": 4,
  "nbformat_minor": 0,
  "metadata": {
    "colab": {
      "name": "Tp_Foret_Aleatoire_pyspark.ipynb",
      "provenance": [],
      "collapsed_sections": [],
      "authorship_tag": "ABX9TyNgUFbx75O7X11/6cW4JSfp",
      "include_colab_link": true
    },
    "kernelspec": {
      "name": "python3",
      "display_name": "Python 3"
    },
    "language_info": {
      "name": "python"
    }
  },
  "cells": [
    {
      "cell_type": "markdown",
      "metadata": {
        "id": "view-in-github",
        "colab_type": "text"
      },
      "source": [
        "<a href=\"https://colab.research.google.com/github/massinoLight/tp_AlgoBD/blob/main/Tp_Foret_Aleatoire_pyspark.ipynb\" target=\"_parent\"><img src=\"https://colab.research.google.com/assets/colab-badge.svg\" alt=\"Open In Colab\"/></a>"
      ]
    },
    {
      "cell_type": "code",
      "execution_count": 1,
      "metadata": {
        "colab": {
          "base_uri": "https://localhost:8080/"
        },
        "id": "TJ7g_NJEO-QC",
        "outputId": "51447c6f-21a7-414c-c349-03c7ac5a4051"
      },
      "outputs": [
        {
          "output_type": "stream",
          "name": "stdout",
          "text": [
            "Collecting pyspark\n",
            "  Downloading pyspark-3.2.1.tar.gz (281.4 MB)\n",
            "\u001b[K     |████████████████████████████████| 281.4 MB 40 kB/s \n",
            "\u001b[?25hCollecting py4j==0.10.9.3\n",
            "  Downloading py4j-0.10.9.3-py2.py3-none-any.whl (198 kB)\n",
            "\u001b[K     |████████████████████████████████| 198 kB 69.0 MB/s \n",
            "\u001b[?25hBuilding wheels for collected packages: pyspark\n",
            "  Building wheel for pyspark (setup.py) ... \u001b[?25l\u001b[?25hdone\n",
            "  Created wheel for pyspark: filename=pyspark-3.2.1-py2.py3-none-any.whl size=281853642 sha256=424cc180b9b33c3ca0fb42c29626f36d4824dcba89225277c0769332fda8314e\n",
            "  Stored in directory: /root/.cache/pip/wheels/9f/f5/07/7cd8017084dce4e93e84e92efd1e1d5334db05f2e83bcef74f\n",
            "Successfully built pyspark\n",
            "Installing collected packages: py4j, pyspark\n",
            "Successfully installed py4j-0.10.9.3 pyspark-3.2.1\n"
          ]
        }
      ],
      "source": [
        "pip install pyspark"
      ]
    },
    {
      "cell_type": "markdown",
      "source": [
        "##charger le fichier "
      ],
      "metadata": {
        "id": "39xGezlFPtcG"
      }
    },
    {
      "cell_type": "code",
      "source": [
        "import requests \n",
        "file_url = \"https://raw.githubusercontent.com/apache/spark/master/data/mllib/sample_libsvm_data.txt\"\n",
        "\t\n",
        "r = requests.get(file_url, stream = True) \n",
        "\n",
        "with open(\"/content/sample_data/sample_libsvm_data.txt\", \"wb\") as file: \n",
        "\tfor block in r.iter_content(chunk_size = 1024): \n",
        "\t\tif block: \n",
        "\t\t\tfile.write(block) "
      ],
      "metadata": {
        "id": "b2Ho4XQ1PQRD"
      },
      "execution_count": 2,
      "outputs": []
    },
    {
      "cell_type": "markdown",
      "source": [
        "##Context spark"
      ],
      "metadata": {
        "id": "d5tGhNulPypv"
      }
    },
    {
      "cell_type": "code",
      "source": [
        "from pyspark import SparkContext\n",
        "# $example on$\n",
        "from pyspark.mllib.tree import RandomForest, RandomForestModel\n",
        "from pyspark.mllib.util import MLUtils\n",
        "\n",
        "sc = SparkContext(appName=\"PythonRandomForestClassification\")"
      ],
      "metadata": {
        "id": "bahO-MVUPh-m"
      },
      "execution_count": 3,
      "outputs": []
    },
    {
      "cell_type": "markdown",
      "source": [
        "##Application du modéle sur le jeu de données (nb class=2,nombre d'arbre=3,max profondeur=4,gini)"
      ],
      "metadata": {
        "id": "kYwSL3elQR41"
      }
    },
    {
      "cell_type": "code",
      "source": [
        "data = MLUtils.loadLibSVMFile(sc, '/content/sample_data/sample_libsvm_data.txt')\n",
        "\n",
        "(trainingData, testData) = data.randomSplit([0.7, 0.3])\n",
        "\n",
        "   \n",
        "model = RandomForest.trainClassifier(trainingData, numClasses=2, categoricalFeaturesInfo={},\n",
        "                                         numTrees=3, featureSubsetStrategy=\"auto\",\n",
        "                                         impurity='gini', maxDepth=4, maxBins=32)\n",
        "\n",
        "\n",
        "predictions = model.predict(testData.map(lambda x: x.features))\n",
        "labelsAndPredictions = testData.map(lambda lp: lp.label).zip(predictions)\n",
        "testErr = labelsAndPredictions.filter(\n",
        "        lambda lp: lp[0] != lp[1]).count() / float(testData.count())\n",
        "print('Test Error = ' + str(testErr))\n",
        "print('Learned classification forest model:')\n",
        "print(model.toDebugString())\n",
        "\n",
        "    "
      ],
      "metadata": {
        "colab": {
          "base_uri": "https://localhost:8080/"
        },
        "id": "EFKU37coP5YF",
        "outputId": "d352ab74-1f02-4774-9107-b4c9ea568f52"
      },
      "execution_count": 4,
      "outputs": [
        {
          "output_type": "stream",
          "name": "stdout",
          "text": [
            "Test Error = 0.0625\n",
            "Learned classification forest model:\n",
            "TreeEnsembleModel classifier with 3 trees\n",
            "\n",
            "  Tree 0:\n",
            "    If (feature 317 <= 8.0)\n",
            "     If (feature 527 <= 18.5)\n",
            "      If (feature 348 <= 128.0)\n",
            "       Predict: 1.0\n",
            "      Else (feature 348 > 128.0)\n",
            "       Predict: 0.0\n",
            "     Else (feature 527 > 18.5)\n",
            "      Predict: 0.0\n",
            "    Else (feature 317 > 8.0)\n",
            "     If (feature 316 <= 253.5)\n",
            "      If (feature 435 <= 39.0)\n",
            "       Predict: 0.0\n",
            "      Else (feature 435 > 39.0)\n",
            "       Predict: 1.0\n",
            "     Else (feature 316 > 253.5)\n",
            "      Predict: 1.0\n",
            "  Tree 1:\n",
            "    If (feature 469 <= 4.0)\n",
            "     If (feature 285 <= 7.5)\n",
            "      If (feature 456 <= 31.5)\n",
            "       Predict: 1.0\n",
            "      Else (feature 456 > 31.5)\n",
            "       Predict: 0.0\n",
            "     Else (feature 285 > 7.5)\n",
            "      Predict: 0.0\n",
            "    Else (feature 469 > 4.0)\n",
            "     Predict: 0.0\n",
            "  Tree 2:\n",
            "    If (feature 290 <= 14.5)\n",
            "     If (feature 606 <= 41.5)\n",
            "      Predict: 1.0\n",
            "     Else (feature 606 > 41.5)\n",
            "      Predict: 0.0\n",
            "    Else (feature 290 > 14.5)\n",
            "     Predict: 0.0\n",
            "\n"
          ]
        }
      ]
    },
    {
      "cell_type": "markdown",
      "source": [
        "##Sauvegarde du modéle entrainé "
      ],
      "metadata": {
        "id": "nJFQNVr1Q11I"
      }
    },
    {
      "cell_type": "code",
      "source": [
        "# Save and load model\n",
        "model.save(sc, \"model/RF/myRandomForestClassificationModel\")\n",
        "sameModel = RandomForestModel.load(sc, \"model/RF/myRandomForestClassificationModel\")"
      ],
      "metadata": {
        "id": "oBju3gv6QEAJ"
      },
      "execution_count": 5,
      "outputs": []
    }
  ]
}