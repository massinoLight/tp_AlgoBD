{
  "nbformat": 4,
  "nbformat_minor": 0,
  "metadata": {
    "colab": {
      "name": "TP_pyspark_PCA.ipynb",
      "provenance": [],
      "collapsed_sections": [],
      "authorship_tag": "ABX9TyPgg20079eCQgprru0UQiKI",
      "include_colab_link": true
    },
    "kernelspec": {
      "name": "python3",
      "display_name": "Python 3"
    },
    "language_info": {
      "name": "python"
    }
  },
  "cells": [
    {
      "cell_type": "markdown",
      "metadata": {
        "id": "view-in-github",
        "colab_type": "text"
      },
      "source": [
        "<a href=\"https://colab.research.google.com/github/massinoLight/tp_AlgoBD/blob/main/TP_pyspark_PCA.ipynb\" target=\"_parent\"><img src=\"https://colab.research.google.com/assets/colab-badge.svg\" alt=\"Open In Colab\"/></a>"
      ]
    },
    {
      "cell_type": "code",
      "execution_count": 1,
      "metadata": {
        "colab": {
          "base_uri": "https://localhost:8080/"
        },
        "id": "DGp1_5N39kYo",
        "outputId": "0478c211-c3bd-4c60-a24a-71323ecfa741"
      },
      "outputs": [
        {
          "output_type": "stream",
          "name": "stdout",
          "text": [
            "Collecting pyspark\n",
            "  Downloading pyspark-3.2.1.tar.gz (281.4 MB)\n",
            "\u001b[K     |████████████████████████████████| 281.4 MB 33 kB/s \n",
            "\u001b[?25hCollecting py4j==0.10.9.3\n",
            "  Downloading py4j-0.10.9.3-py2.py3-none-any.whl (198 kB)\n",
            "\u001b[K     |████████████████████████████████| 198 kB 49.4 MB/s \n",
            "\u001b[?25hBuilding wheels for collected packages: pyspark\n",
            "  Building wheel for pyspark (setup.py) ... \u001b[?25l\u001b[?25hdone\n",
            "  Created wheel for pyspark: filename=pyspark-3.2.1-py2.py3-none-any.whl size=281853642 sha256=dc531246fcc963791511b72e8740ef61ff8cba4093a42411304f752477e4d2ff\n",
            "  Stored in directory: /root/.cache/pip/wheels/9f/f5/07/7cd8017084dce4e93e84e92efd1e1d5334db05f2e83bcef74f\n",
            "Successfully built pyspark\n",
            "Installing collected packages: py4j, pyspark\n",
            "Successfully installed py4j-0.10.9.3 pyspark-3.2.1\n"
          ]
        }
      ],
      "source": [
        "pip install pyspark"
      ]
    },
    {
      "cell_type": "code",
      "source": [
        "import pandas as pd\n",
        "\n",
        "url = 'https://raw.githubusercontent.com/massinoLight/tp_AlgoBD/main/iris.csv'\n",
        "\n",
        "df=pd.read_csv(url)\n",
        "\n",
        "df"
      ],
      "metadata": {
        "colab": {
          "base_uri": "https://localhost:8080/",
          "height": 424
        },
        "id": "9QD3r5tiSY1o",
        "outputId": "40e843d4-1ca6-4c91-d329-a469f9cc85ad"
      },
      "execution_count": 92,
      "outputs": [
        {
          "output_type": "execute_result",
          "data": {
            "text/html": [
              "\n",
              "  <div id=\"df-e4f64b03-96d9-4dce-8f51-45d56ed376ab\">\n",
              "    <div class=\"colab-df-container\">\n",
              "      <div>\n",
              "<style scoped>\n",
              "    .dataframe tbody tr th:only-of-type {\n",
              "        vertical-align: middle;\n",
              "    }\n",
              "\n",
              "    .dataframe tbody tr th {\n",
              "        vertical-align: top;\n",
              "    }\n",
              "\n",
              "    .dataframe thead th {\n",
              "        text-align: right;\n",
              "    }\n",
              "</style>\n",
              "<table border=\"1\" class=\"dataframe\">\n",
              "  <thead>\n",
              "    <tr style=\"text-align: right;\">\n",
              "      <th></th>\n",
              "      <th>sepal_length</th>\n",
              "      <th>sepal_width</th>\n",
              "      <th>petal_length</th>\n",
              "      <th>petal_width</th>\n",
              "      <th>class</th>\n",
              "    </tr>\n",
              "  </thead>\n",
              "  <tbody>\n",
              "    <tr>\n",
              "      <th>0</th>\n",
              "      <td>5.1</td>\n",
              "      <td>3.5</td>\n",
              "      <td>1.4</td>\n",
              "      <td>0.2</td>\n",
              "      <td>Iris-setosa</td>\n",
              "    </tr>\n",
              "    <tr>\n",
              "      <th>1</th>\n",
              "      <td>4.9</td>\n",
              "      <td>3.0</td>\n",
              "      <td>1.4</td>\n",
              "      <td>0.2</td>\n",
              "      <td>Iris-setosa</td>\n",
              "    </tr>\n",
              "    <tr>\n",
              "      <th>2</th>\n",
              "      <td>4.7</td>\n",
              "      <td>3.2</td>\n",
              "      <td>1.3</td>\n",
              "      <td>0.2</td>\n",
              "      <td>Iris-setosa</td>\n",
              "    </tr>\n",
              "    <tr>\n",
              "      <th>3</th>\n",
              "      <td>4.6</td>\n",
              "      <td>3.1</td>\n",
              "      <td>1.5</td>\n",
              "      <td>0.2</td>\n",
              "      <td>Iris-setosa</td>\n",
              "    </tr>\n",
              "    <tr>\n",
              "      <th>4</th>\n",
              "      <td>5.0</td>\n",
              "      <td>3.6</td>\n",
              "      <td>1.4</td>\n",
              "      <td>0.2</td>\n",
              "      <td>Iris-setosa</td>\n",
              "    </tr>\n",
              "    <tr>\n",
              "      <th>...</th>\n",
              "      <td>...</td>\n",
              "      <td>...</td>\n",
              "      <td>...</td>\n",
              "      <td>...</td>\n",
              "      <td>...</td>\n",
              "    </tr>\n",
              "    <tr>\n",
              "      <th>145</th>\n",
              "      <td>6.7</td>\n",
              "      <td>3.0</td>\n",
              "      <td>5.2</td>\n",
              "      <td>2.3</td>\n",
              "      <td>Iris-virginica</td>\n",
              "    </tr>\n",
              "    <tr>\n",
              "      <th>146</th>\n",
              "      <td>6.3</td>\n",
              "      <td>2.5</td>\n",
              "      <td>5.0</td>\n",
              "      <td>1.9</td>\n",
              "      <td>Iris-virginica</td>\n",
              "    </tr>\n",
              "    <tr>\n",
              "      <th>147</th>\n",
              "      <td>6.5</td>\n",
              "      <td>3.0</td>\n",
              "      <td>5.2</td>\n",
              "      <td>2.0</td>\n",
              "      <td>Iris-virginica</td>\n",
              "    </tr>\n",
              "    <tr>\n",
              "      <th>148</th>\n",
              "      <td>6.2</td>\n",
              "      <td>3.4</td>\n",
              "      <td>5.4</td>\n",
              "      <td>2.3</td>\n",
              "      <td>Iris-virginica</td>\n",
              "    </tr>\n",
              "    <tr>\n",
              "      <th>149</th>\n",
              "      <td>5.9</td>\n",
              "      <td>3.0</td>\n",
              "      <td>5.1</td>\n",
              "      <td>1.8</td>\n",
              "      <td>Iris-virginica</td>\n",
              "    </tr>\n",
              "  </tbody>\n",
              "</table>\n",
              "<p>150 rows × 5 columns</p>\n",
              "</div>\n",
              "      <button class=\"colab-df-convert\" onclick=\"convertToInteractive('df-e4f64b03-96d9-4dce-8f51-45d56ed376ab')\"\n",
              "              title=\"Convert this dataframe to an interactive table.\"\n",
              "              style=\"display:none;\">\n",
              "        \n",
              "  <svg xmlns=\"http://www.w3.org/2000/svg\" height=\"24px\"viewBox=\"0 0 24 24\"\n",
              "       width=\"24px\">\n",
              "    <path d=\"M0 0h24v24H0V0z\" fill=\"none\"/>\n",
              "    <path d=\"M18.56 5.44l.94 2.06.94-2.06 2.06-.94-2.06-.94-.94-2.06-.94 2.06-2.06.94zm-11 1L8.5 8.5l.94-2.06 2.06-.94-2.06-.94L8.5 2.5l-.94 2.06-2.06.94zm10 10l.94 2.06.94-2.06 2.06-.94-2.06-.94-.94-2.06-.94 2.06-2.06.94z\"/><path d=\"M17.41 7.96l-1.37-1.37c-.4-.4-.92-.59-1.43-.59-.52 0-1.04.2-1.43.59L10.3 9.45l-7.72 7.72c-.78.78-.78 2.05 0 2.83L4 21.41c.39.39.9.59 1.41.59.51 0 1.02-.2 1.41-.59l7.78-7.78 2.81-2.81c.8-.78.8-2.07 0-2.86zM5.41 20L4 18.59l7.72-7.72 1.47 1.35L5.41 20z\"/>\n",
              "  </svg>\n",
              "      </button>\n",
              "      \n",
              "  <style>\n",
              "    .colab-df-container {\n",
              "      display:flex;\n",
              "      flex-wrap:wrap;\n",
              "      gap: 12px;\n",
              "    }\n",
              "\n",
              "    .colab-df-convert {\n",
              "      background-color: #E8F0FE;\n",
              "      border: none;\n",
              "      border-radius: 50%;\n",
              "      cursor: pointer;\n",
              "      display: none;\n",
              "      fill: #1967D2;\n",
              "      height: 32px;\n",
              "      padding: 0 0 0 0;\n",
              "      width: 32px;\n",
              "    }\n",
              "\n",
              "    .colab-df-convert:hover {\n",
              "      background-color: #E2EBFA;\n",
              "      box-shadow: 0px 1px 2px rgba(60, 64, 67, 0.3), 0px 1px 3px 1px rgba(60, 64, 67, 0.15);\n",
              "      fill: #174EA6;\n",
              "    }\n",
              "\n",
              "    [theme=dark] .colab-df-convert {\n",
              "      background-color: #3B4455;\n",
              "      fill: #D2E3FC;\n",
              "    }\n",
              "\n",
              "    [theme=dark] .colab-df-convert:hover {\n",
              "      background-color: #434B5C;\n",
              "      box-shadow: 0px 1px 3px 1px rgba(0, 0, 0, 0.15);\n",
              "      filter: drop-shadow(0px 1px 2px rgba(0, 0, 0, 0.3));\n",
              "      fill: #FFFFFF;\n",
              "    }\n",
              "  </style>\n",
              "\n",
              "      <script>\n",
              "        const buttonEl =\n",
              "          document.querySelector('#df-e4f64b03-96d9-4dce-8f51-45d56ed376ab button.colab-df-convert');\n",
              "        buttonEl.style.display =\n",
              "          google.colab.kernel.accessAllowed ? 'block' : 'none';\n",
              "\n",
              "        async function convertToInteractive(key) {\n",
              "          const element = document.querySelector('#df-e4f64b03-96d9-4dce-8f51-45d56ed376ab');\n",
              "          const dataTable =\n",
              "            await google.colab.kernel.invokeFunction('convertToInteractive',\n",
              "                                                     [key], {});\n",
              "          if (!dataTable) return;\n",
              "\n",
              "          const docLinkHtml = 'Like what you see? Visit the ' +\n",
              "            '<a target=\"_blank\" href=https://colab.research.google.com/notebooks/data_table.ipynb>data table notebook</a>'\n",
              "            + ' to learn more about interactive tables.';\n",
              "          element.innerHTML = '';\n",
              "          dataTable['output_type'] = 'display_data';\n",
              "          await google.colab.output.renderOutput(dataTable, element);\n",
              "          const docLink = document.createElement('div');\n",
              "          docLink.innerHTML = docLinkHtml;\n",
              "          element.appendChild(docLink);\n",
              "        }\n",
              "      </script>\n",
              "    </div>\n",
              "  </div>\n",
              "  "
            ],
            "text/plain": [
              "     sepal_length  sepal_width  petal_length  petal_width           class\n",
              "0             5.1          3.5           1.4          0.2     Iris-setosa\n",
              "1             4.9          3.0           1.4          0.2     Iris-setosa\n",
              "2             4.7          3.2           1.3          0.2     Iris-setosa\n",
              "3             4.6          3.1           1.5          0.2     Iris-setosa\n",
              "4             5.0          3.6           1.4          0.2     Iris-setosa\n",
              "..            ...          ...           ...          ...             ...\n",
              "145           6.7          3.0           5.2          2.3  Iris-virginica\n",
              "146           6.3          2.5           5.0          1.9  Iris-virginica\n",
              "147           6.5          3.0           5.2          2.0  Iris-virginica\n",
              "148           6.2          3.4           5.4          2.3  Iris-virginica\n",
              "149           5.9          3.0           5.1          1.8  Iris-virginica\n",
              "\n",
              "[150 rows x 5 columns]"
            ]
          },
          "metadata": {},
          "execution_count": 92
        }
      ]
    },
    {
      "cell_type": "markdown",
      "source": [
        "**On lit la BD avec panda car la librérie pyspark pour le read csv nest pas stable**"
      ],
      "metadata": {
        "id": "p3qG4h5wPWNz"
      }
    },
    {
      "cell_type": "markdown",
      "source": [
        "#load data as Spark DataFrame\n",
        "data2=spark.read.format(\"csv\") \\\n",
        "    .option(\"header\",\"true\") \\\n",
        "    .option(\"mode\",\"DROPMALFORMED\") \\\n",
        "    .load('C:\\\\Users\\\\Dell\\\\Desktop\\\\iris.csv')"
      ],
      "metadata": {
        "id": "IZd-v-6mP4Ow"
      }
    },
    {
      "cell_type": "markdown",
      "source": [
        "##On transforme la df panda en rdd pyspark "
      ],
      "metadata": {
        "id": "X02vSqSKQAa0"
      }
    },
    {
      "cell_type": "code",
      "source": [
        "from pyspark.sql import SparkSession\n",
        "spark= SparkSession.builder \\\n",
        "    .master(\"local\") \\\n",
        "    .appName(\"Data Exploration\") \\\n",
        "    .getOrCreate()\n",
        "\n",
        "irisSparkDF=spark.createDataFrame(df)\n",
        "irisSparkDF.printSchema()\n",
        "irisSparkDF.show() \n",
        "\n",
        "\n",
        "    \n",
        "\n"
      ],
      "metadata": {
        "colab": {
          "base_uri": "https://localhost:8080/"
        },
        "id": "LY3A4XEv-vNZ",
        "outputId": "bf27a33d-70a6-45b2-8275-ca1290480069"
      },
      "execution_count": null,
      "outputs": [
        {
          "output_type": "stream",
          "name": "stdout",
          "text": [
            "root\n",
            " |-- sepal_length: double (nullable = true)\n",
            " |-- sepal_width: double (nullable = true)\n",
            " |-- petal_length: double (nullable = true)\n",
            " |-- petal_width: double (nullable = true)\n",
            " |-- class: string (nullable = true)\n",
            "\n",
            "+------------+-----------+------------+-----------+-----------+\n",
            "|sepal_length|sepal_width|petal_length|petal_width|      class|\n",
            "+------------+-----------+------------+-----------+-----------+\n",
            "|         5.1|        3.5|         1.4|        0.2|Iris-setosa|\n",
            "|         4.9|        3.0|         1.4|        0.2|Iris-setosa|\n",
            "|         4.7|        3.2|         1.3|        0.2|Iris-setosa|\n",
            "|         4.6|        3.1|         1.5|        0.2|Iris-setosa|\n",
            "|         5.0|        3.6|         1.4|        0.2|Iris-setosa|\n",
            "|         5.4|        3.9|         1.7|        0.4|Iris-setosa|\n",
            "|         4.6|        3.4|         1.4|        0.3|Iris-setosa|\n",
            "|         5.0|        3.4|         1.5|        0.2|Iris-setosa|\n",
            "|         4.4|        2.9|         1.4|        0.2|Iris-setosa|\n",
            "|         4.9|        3.1|         1.5|        0.1|Iris-setosa|\n",
            "|         5.4|        3.7|         1.5|        0.2|Iris-setosa|\n",
            "|         4.8|        3.4|         1.6|        0.2|Iris-setosa|\n",
            "|         4.8|        3.0|         1.4|        0.1|Iris-setosa|\n",
            "|         4.3|        3.0|         1.1|        0.1|Iris-setosa|\n",
            "|         5.8|        4.0|         1.2|        0.2|Iris-setosa|\n",
            "|         5.7|        4.4|         1.5|        0.4|Iris-setosa|\n",
            "|         5.4|        3.9|         1.3|        0.4|Iris-setosa|\n",
            "|         5.1|        3.5|         1.4|        0.3|Iris-setosa|\n",
            "|         5.7|        3.8|         1.7|        0.3|Iris-setosa|\n",
            "|         5.1|        3.8|         1.5|        0.3|Iris-setosa|\n",
            "+------------+-----------+------------+-----------+-----------+\n",
            "only showing top 20 rows\n",
            "\n"
          ]
        }
      ]
    },
    {
      "cell_type": "markdown",
      "source": [
        "##on passe la rdd au bon format features label"
      ],
      "metadata": {
        "id": "rzbNR8JEQKjK"
      }
    },
    {
      "cell_type": "code",
      "source": [
        "from pyspark.sql import Row\n",
        "from pyspark.ml.linalg import Vectors\n",
        "\n",
        "trainingData=irisSparkDF.rdd.map(lambda x:(Vectors.dense(x[0:-1]), x[-1])).toDF([\"features\", \"label\"])\n",
        "trainingData.show()\n",
        "# +-----------------"
      ],
      "metadata": {
        "colab": {
          "base_uri": "https://localhost:8080/"
        },
        "id": "TAWAKZgxNRHi",
        "outputId": "bdd0f381-deb7-44fe-8054-a1675330dedf"
      },
      "execution_count": null,
      "outputs": [
        {
          "output_type": "stream",
          "name": "stdout",
          "text": [
            "+-----------------+-----------+\n",
            "|         features|      label|\n",
            "+-----------------+-----------+\n",
            "|[5.1,3.5,1.4,0.2]|Iris-setosa|\n",
            "|[4.9,3.0,1.4,0.2]|Iris-setosa|\n",
            "|[4.7,3.2,1.3,0.2]|Iris-setosa|\n",
            "|[4.6,3.1,1.5,0.2]|Iris-setosa|\n",
            "|[5.0,3.6,1.4,0.2]|Iris-setosa|\n",
            "|[5.4,3.9,1.7,0.4]|Iris-setosa|\n",
            "|[4.6,3.4,1.4,0.3]|Iris-setosa|\n",
            "|[5.0,3.4,1.5,0.2]|Iris-setosa|\n",
            "|[4.4,2.9,1.4,0.2]|Iris-setosa|\n",
            "|[4.9,3.1,1.5,0.1]|Iris-setosa|\n",
            "|[5.4,3.7,1.5,0.2]|Iris-setosa|\n",
            "|[4.8,3.4,1.6,0.2]|Iris-setosa|\n",
            "|[4.8,3.0,1.4,0.1]|Iris-setosa|\n",
            "|[4.3,3.0,1.1,0.1]|Iris-setosa|\n",
            "|[5.8,4.0,1.2,0.2]|Iris-setosa|\n",
            "|[5.7,4.4,1.5,0.4]|Iris-setosa|\n",
            "|[5.4,3.9,1.3,0.4]|Iris-setosa|\n",
            "|[5.1,3.5,1.4,0.3]|Iris-setosa|\n",
            "|[5.7,3.8,1.7,0.3]|Iris-setosa|\n",
            "|[5.1,3.8,1.5,0.3]|Iris-setosa|\n",
            "+-----------------+-----------+\n",
            "only showing top 20 rows\n",
            "\n"
          ]
        }
      ]
    },
    {
      "cell_type": "markdown",
      "source": [
        "##On applique l'ACP (2 features)"
      ],
      "metadata": {
        "id": "DEhc5mjzQbve"
      }
    },
    {
      "cell_type": "code",
      "source": [
        "from pyspark.ml.feature import PCA as PCAml\n",
        "from pyspark.ml.linalg import Vectors \n",
        "\n",
        "\n",
        "\n",
        "pca = PCAml(k=2, inputCol=\"features\", outputCol=\"pca\")\n",
        "model = pca.fit(trainingData)\n",
        "transformed = model.transform(trainingData)"
      ],
      "metadata": {
        "id": "aNfpgKLs_lbM"
      },
      "execution_count": null,
      "outputs": []
    },
    {
      "cell_type": "code",
      "source": [
        "type(transformed)"
      ],
      "metadata": {
        "colab": {
          "base_uri": "https://localhost:8080/"
        },
        "id": "IYE3J1i8TjVs",
        "outputId": "47a6f3cb-5b13-48d1-a468-5435327b2a13"
      },
      "execution_count": null,
      "outputs": [
        {
          "output_type": "execute_result",
          "data": {
            "text/plain": [
              "pyspark.sql.dataframe.DataFrame"
            ]
          },
          "metadata": {},
          "execution_count": 13
        }
      ]
    },
    {
      "cell_type": "code",
      "source": [
        "transformed.show()"
      ],
      "metadata": {
        "colab": {
          "base_uri": "https://localhost:8080/"
        },
        "id": "pyzfOZe0RejS",
        "outputId": "67a90fe8-2a7d-4aad-c53e-e81736650e1c"
      },
      "execution_count": null,
      "outputs": [
        {
          "output_type": "stream",
          "name": "stdout",
          "text": [
            "+-----------------+-----------+--------------------+\n",
            "|         features|      label|                 pca|\n",
            "+-----------------+-----------+--------------------+\n",
            "|[5.1,3.5,1.4,0.2]|Iris-setosa|[-2.8271359726790...|\n",
            "|[4.9,3.0,1.4,0.2]|Iris-setosa|[-2.7959524821488...|\n",
            "|[4.7,3.2,1.3,0.2]|Iris-setosa|[-2.6215235581650...|\n",
            "|[4.6,3.1,1.5,0.2]|Iris-setosa|[-2.7649059004742...|\n",
            "|[5.0,3.6,1.4,0.2]|Iris-setosa|[-2.7827501159516...|\n",
            "|[5.4,3.9,1.7,0.4]|Iris-setosa|[-3.2314457367733...|\n",
            "|[4.6,3.4,1.4,0.3]|Iris-setosa|[-2.6904524156023...|\n",
            "|[5.0,3.4,1.5,0.2]|Iris-setosa|[-2.8848611044591...|\n",
            "|[4.4,2.9,1.4,0.2]|Iris-setosa|[-2.6233845324473...|\n",
            "|[4.9,3.1,1.5,0.1]|Iris-setosa|[-2.8374984110638...|\n",
            "|[5.4,3.7,1.5,0.2]|Iris-setosa|[-3.0048163084440...|\n",
            "|[4.8,3.4,1.6,0.2]|Iris-setosa|[-2.8982003795119...|\n",
            "|[4.8,3.0,1.4,0.1]|Iris-setosa|[-2.7239091217858...|\n",
            "|[4.3,3.0,1.1,0.1]|Iris-setosa|[-2.2861426515079...|\n",
            "|[5.8,4.0,1.2,0.2]|Iris-setosa|[-2.8677998808418...|\n",
            "|[5.7,4.4,1.5,0.4]|Iris-setosa|[-3.1274737739836...|\n",
            "|[5.4,3.9,1.3,0.4]|Iris-setosa|[-2.8888168946571...|\n",
            "|[5.1,3.5,1.4,0.3]|Iris-setosa|[-2.8630203653038...|\n",
            "|[5.7,3.8,1.7,0.3]|Iris-setosa|[-3.3122651363522...|\n",
            "|[5.1,3.8,1.5,0.3]|Iris-setosa|[-2.9239969088652...|\n",
            "+-----------------+-----------+--------------------+\n",
            "only showing top 20 rows\n",
            "\n"
          ]
        }
      ]
    },
    {
      "cell_type": "markdown",
      "source": [
        "##afficher une colum d'une RDD \n",
        "df.select(\"col\").rdd.flatMap(list).collect()"
      ],
      "metadata": {
        "id": "ZroxJvFwaUsn"
      }
    },
    {
      "cell_type": "code",
      "source": [
        "transformed.select(\"pca\").show()"
      ],
      "metadata": {
        "colab": {
          "base_uri": "https://localhost:8080/"
        },
        "id": "yhd0rCzyZyb4",
        "outputId": "0135a0f7-66db-4ffb-f61c-3b68f609d41c"
      },
      "execution_count": null,
      "outputs": [
        {
          "output_type": "stream",
          "name": "stdout",
          "text": [
            "+--------------------+\n",
            "|                 pca|\n",
            "+--------------------+\n",
            "|[-2.8271359726790...|\n",
            "|[-2.7959524821488...|\n",
            "|[-2.6215235581650...|\n",
            "|[-2.7649059004742...|\n",
            "|[-2.7827501159516...|\n",
            "|[-3.2314457367733...|\n",
            "|[-2.6904524156023...|\n",
            "|[-2.8848611044591...|\n",
            "|[-2.6233845324473...|\n",
            "|[-2.8374984110638...|\n",
            "|[-3.0048163084440...|\n",
            "|[-2.8982003795119...|\n",
            "|[-2.7239091217858...|\n",
            "|[-2.2861426515079...|\n",
            "|[-2.8677998808418...|\n",
            "|[-3.1274737739836...|\n",
            "|[-2.8888168946571...|\n",
            "|[-2.8630203653038...|\n",
            "|[-3.3122651363522...|\n",
            "|[-2.9239969088652...|\n",
            "+--------------------+\n",
            "only showing top 20 rows\n",
            "\n"
          ]
        }
      ]
    },
    {
      "cell_type": "code",
      "source": [
        "type(transformed.select(\"pca\"))"
      ],
      "metadata": {
        "colab": {
          "base_uri": "https://localhost:8080/"
        },
        "id": "pCj9FHCld5QQ",
        "outputId": "c655e958-1ab2-4f52-cb1e-f3b49de02967"
      },
      "execution_count": null,
      "outputs": [
        {
          "output_type": "execute_result",
          "data": {
            "text/plain": [
              "pyspark.sql.column.Column"
            ]
          },
          "metadata": {},
          "execution_count": 69
        }
      ]
    },
    {
      "cell_type": "code",
      "source": [
        "from pyspark.ml.functions import vector_to_array\n",
        "\n",
        "df1 = transformed.select(vector_to_array(\"pca\").alias(\"pca\"))"
      ],
      "metadata": {
        "id": "Is0skMAzbyK3"
      },
      "execution_count": null,
      "outputs": []
    },
    {
      "cell_type": "code",
      "source": [
        "pdf = df1.toPandas()\n",
        "pdf"
      ],
      "metadata": {
        "colab": {
          "base_uri": "https://localhost:8080/",
          "height": 424
        },
        "id": "YdNULvChhVNu",
        "outputId": "21ad5b73-9754-4e24-fc35-5cad9eb2ed22"
      },
      "execution_count": null,
      "outputs": [
        {
          "output_type": "execute_result",
          "data": {
            "text/html": [
              "\n",
              "  <div id=\"df-2f65efeb-9d5c-4cc6-87cc-477eda1a6326\">\n",
              "    <div class=\"colab-df-container\">\n",
              "      <div>\n",
              "<style scoped>\n",
              "    .dataframe tbody tr th:only-of-type {\n",
              "        vertical-align: middle;\n",
              "    }\n",
              "\n",
              "    .dataframe tbody tr th {\n",
              "        vertical-align: top;\n",
              "    }\n",
              "\n",
              "    .dataframe thead th {\n",
              "        text-align: right;\n",
              "    }\n",
              "</style>\n",
              "<table border=\"1\" class=\"dataframe\">\n",
              "  <thead>\n",
              "    <tr style=\"text-align: right;\">\n",
              "      <th></th>\n",
              "      <th>pca</th>\n",
              "    </tr>\n",
              "  </thead>\n",
              "  <tbody>\n",
              "    <tr>\n",
              "      <th>0</th>\n",
              "      <td>[-2.8271359726790286, -5.641331045573357]</td>\n",
              "    </tr>\n",
              "    <tr>\n",
              "      <th>1</th>\n",
              "      <td>[-2.7959524821488464, -5.1451668832529425]</td>\n",
              "    </tr>\n",
              "    <tr>\n",
              "      <th>2</th>\n",
              "      <td>[-2.62152355816506, -5.17737812120394]</td>\n",
              "    </tr>\n",
              "    <tr>\n",
              "      <th>3</th>\n",
              "      <td>[-2.764905900474242, -5.003599415056977]</td>\n",
              "    </tr>\n",
              "    <tr>\n",
              "      <th>4</th>\n",
              "      <td>[-2.7827501159516626, -5.648648294377423]</td>\n",
              "    </tr>\n",
              "    <tr>\n",
              "      <th>...</th>\n",
              "      <td>...</td>\n",
              "    </tr>\n",
              "    <tr>\n",
              "      <th>145</th>\n",
              "      <td>[-7.455360146660716, -5.502138952854981]</td>\n",
              "    </tr>\n",
              "    <tr>\n",
              "      <th>146</th>\n",
              "      <td>[-7.03700672909685, -4.939702882617144]</td>\n",
              "    </tr>\n",
              "    <tr>\n",
              "      <th>147</th>\n",
              "      <td>[-7.275389033309962, -5.393242917238325]</td>\n",
              "    </tr>\n",
              "    <tr>\n",
              "      <th>148</th>\n",
              "      <td>[-7.4129721730712115, -5.430600479056934]</td>\n",
              "    </tr>\n",
              "    <tr>\n",
              "      <th>149</th>\n",
              "      <td>[-6.901009231102396, -5.031837021636699]</td>\n",
              "    </tr>\n",
              "  </tbody>\n",
              "</table>\n",
              "<p>150 rows × 1 columns</p>\n",
              "</div>\n",
              "      <button class=\"colab-df-convert\" onclick=\"convertToInteractive('df-2f65efeb-9d5c-4cc6-87cc-477eda1a6326')\"\n",
              "              title=\"Convert this dataframe to an interactive table.\"\n",
              "              style=\"display:none;\">\n",
              "        \n",
              "  <svg xmlns=\"http://www.w3.org/2000/svg\" height=\"24px\"viewBox=\"0 0 24 24\"\n",
              "       width=\"24px\">\n",
              "    <path d=\"M0 0h24v24H0V0z\" fill=\"none\"/>\n",
              "    <path d=\"M18.56 5.44l.94 2.06.94-2.06 2.06-.94-2.06-.94-.94-2.06-.94 2.06-2.06.94zm-11 1L8.5 8.5l.94-2.06 2.06-.94-2.06-.94L8.5 2.5l-.94 2.06-2.06.94zm10 10l.94 2.06.94-2.06 2.06-.94-2.06-.94-.94-2.06-.94 2.06-2.06.94z\"/><path d=\"M17.41 7.96l-1.37-1.37c-.4-.4-.92-.59-1.43-.59-.52 0-1.04.2-1.43.59L10.3 9.45l-7.72 7.72c-.78.78-.78 2.05 0 2.83L4 21.41c.39.39.9.59 1.41.59.51 0 1.02-.2 1.41-.59l7.78-7.78 2.81-2.81c.8-.78.8-2.07 0-2.86zM5.41 20L4 18.59l7.72-7.72 1.47 1.35L5.41 20z\"/>\n",
              "  </svg>\n",
              "      </button>\n",
              "      \n",
              "  <style>\n",
              "    .colab-df-container {\n",
              "      display:flex;\n",
              "      flex-wrap:wrap;\n",
              "      gap: 12px;\n",
              "    }\n",
              "\n",
              "    .colab-df-convert {\n",
              "      background-color: #E8F0FE;\n",
              "      border: none;\n",
              "      border-radius: 50%;\n",
              "      cursor: pointer;\n",
              "      display: none;\n",
              "      fill: #1967D2;\n",
              "      height: 32px;\n",
              "      padding: 0 0 0 0;\n",
              "      width: 32px;\n",
              "    }\n",
              "\n",
              "    .colab-df-convert:hover {\n",
              "      background-color: #E2EBFA;\n",
              "      box-shadow: 0px 1px 2px rgba(60, 64, 67, 0.3), 0px 1px 3px 1px rgba(60, 64, 67, 0.15);\n",
              "      fill: #174EA6;\n",
              "    }\n",
              "\n",
              "    [theme=dark] .colab-df-convert {\n",
              "      background-color: #3B4455;\n",
              "      fill: #D2E3FC;\n",
              "    }\n",
              "\n",
              "    [theme=dark] .colab-df-convert:hover {\n",
              "      background-color: #434B5C;\n",
              "      box-shadow: 0px 1px 3px 1px rgba(0, 0, 0, 0.15);\n",
              "      filter: drop-shadow(0px 1px 2px rgba(0, 0, 0, 0.3));\n",
              "      fill: #FFFFFF;\n",
              "    }\n",
              "  </style>\n",
              "\n",
              "      <script>\n",
              "        const buttonEl =\n",
              "          document.querySelector('#df-2f65efeb-9d5c-4cc6-87cc-477eda1a6326 button.colab-df-convert');\n",
              "        buttonEl.style.display =\n",
              "          google.colab.kernel.accessAllowed ? 'block' : 'none';\n",
              "\n",
              "        async function convertToInteractive(key) {\n",
              "          const element = document.querySelector('#df-2f65efeb-9d5c-4cc6-87cc-477eda1a6326');\n",
              "          const dataTable =\n",
              "            await google.colab.kernel.invokeFunction('convertToInteractive',\n",
              "                                                     [key], {});\n",
              "          if (!dataTable) return;\n",
              "\n",
              "          const docLinkHtml = 'Like what you see? Visit the ' +\n",
              "            '<a target=\"_blank\" href=https://colab.research.google.com/notebooks/data_table.ipynb>data table notebook</a>'\n",
              "            + ' to learn more about interactive tables.';\n",
              "          element.innerHTML = '';\n",
              "          dataTable['output_type'] = 'display_data';\n",
              "          await google.colab.output.renderOutput(dataTable, element);\n",
              "          const docLink = document.createElement('div');\n",
              "          docLink.innerHTML = docLinkHtml;\n",
              "          element.appendChild(docLink);\n",
              "        }\n",
              "      </script>\n",
              "    </div>\n",
              "  </div>\n",
              "  "
            ],
            "text/plain": [
              "                                            pca\n",
              "0     [-2.8271359726790286, -5.641331045573357]\n",
              "1    [-2.7959524821488464, -5.1451668832529425]\n",
              "2        [-2.62152355816506, -5.17737812120394]\n",
              "3      [-2.764905900474242, -5.003599415056977]\n",
              "4     [-2.7827501159516626, -5.648648294377423]\n",
              "..                                          ...\n",
              "145    [-7.455360146660716, -5.502138952854981]\n",
              "146     [-7.03700672909685, -4.939702882617144]\n",
              "147    [-7.275389033309962, -5.393242917238325]\n",
              "148   [-7.4129721730712115, -5.430600479056934]\n",
              "149    [-6.901009231102396, -5.031837021636699]\n",
              "\n",
              "[150 rows x 1 columns]"
            ]
          },
          "metadata": {},
          "execution_count": 77
        }
      ]
    },
    {
      "cell_type": "code",
      "source": [
        "pdf = df1.toPandas()\n",
        "x_setosa=[]\n",
        "y_setosa=[]\n",
        "\n",
        "x_versicolor=[]\n",
        "y_versicolor=[]\n",
        "\n",
        "x_virginica=[]\n",
        "y_virginica=[]\n",
        "\n",
        "for i in range(0,50):\n",
        "   x_setosa.append(pdf['pca'][i][0])\n",
        "   y_setosa.append(pdf['pca'][i][1])\n",
        "\n",
        "for i in range(50,100):\n",
        "   x_versicolor.append(pdf['pca'][i][0])\n",
        "   y_versicolor.append(pdf['pca'][i][1])\n",
        "\n",
        "for i in range(100,len(pdf)):\n",
        "   x_virginica.append(pdf['pca'][i][0])\n",
        "   y_virginica.append(pdf['pca'][i][1])      \n",
        "\n"
      ],
      "metadata": {
        "id": "iaQGB5fKb-Vo"
      },
      "execution_count": null,
      "outputs": []
    },
    {
      "cell_type": "code",
      "source": [
        "import matplotlib.pyplot as plt\n",
        "from mpl_toolkits.mplot3d import Axes3D\n",
        "\n",
        "\n",
        "\n",
        "\n",
        "fig = plt.figure()\n",
        "ax = fig.add_subplot(111, projection='3d')\n",
        "\n",
        "ax.scatter(x_setosa, y_setosa, c='r', marker='o')\n",
        "ax.scatter(x_versicolor, y_versicolor, c='b', marker='o')\n",
        "ax.scatter(x_virginica, y_virginica, c='g', marker='o')\n",
        "\n",
        "ax.set_xlabel('sepal length(cm)')\n",
        "ax.set_ylabel('sepal width (cm)')\n",
        "\n",
        "\n",
        "plt.show()   "
      ],
      "metadata": {
        "colab": {
          "base_uri": "https://localhost:8080/",
          "height": 248
        },
        "id": "oF0CHO5Tfq_c",
        "outputId": "adbd889a-f393-4b96-a29d-b0ccf53b51de"
      },
      "execution_count": null,
      "outputs": [
        {
          "output_type": "display_data",
          "data": {
            "image/png": "[encoded data removed]",
            "text/plain": [
              "<Figure size 432x288 with 1 Axes>"
            ]
          },
          "metadata": {
            "needs_background": "light"
          }
        }
      ]
    },
    {
      "cell_type": "code",
      "source": [
        "x=x_setosa+x_versicolor+x_virginica\n",
        "y=y_setosa+y_versicolor+y_virginica\n",
        "from scipy.stats import pearsonr\n",
        "\n",
        "corr, _ = pearsonr(x, y)\n",
        "corr"
      ],
      "metadata": {
        "colab": {
          "base_uri": "https://localhost:8080/"
        },
        "id": "swpbqI7-kUi6",
        "outputId": "8a1ae209-cdc8-47f8-8e05-36416351e8f6"
      },
      "execution_count": null,
      "outputs": [
        {
          "output_type": "execute_result",
          "data": {
            "text/plain": [
              "-9.194116274392545e-16"
            ]
          },
          "metadata": {},
          "execution_count": 87
        }
      ]
    },
    {
      "cell_type": "markdown",
      "source": [
        "##Spark Session initialization"
      ],
      "metadata": {
        "id": "2lGyYhFBb_Rj"
      }
    },
    {
      "cell_type": "code",
      "source": [
        "from pyspark.sql import SparkSession\n",
        "spark = (SparkSession\n",
        "         .builder\n",
        "         .appName(\"news\")\n",
        "         .enableHiveSupport()\n",
        "         .getOrCreate())"
      ],
      "metadata": {
        "id": "HpTg25hSSWSI"
      },
      "execution_count": 2,
      "outputs": []
    },
    {
      "cell_type": "markdown",
      "source": [
        "##Load dataset"
      ],
      "metadata": {
        "id": "IFkd2XjQcGf6"
      }
    },
    {
      "cell_type": "code",
      "source": [
        "dfIris = spark.read.csv(\"/content/sample_data/iris.csv\", header=True, inferSchema=True, mode=\"DROPMALFORMED\", encoding='UTF-8')\n",
        "dfMnist = spark.read.csv(\"/content/sample_data/mnist_train_small.csv\", header=True, inferSchema=True, mode=\"DROPMALFORMED\", encoding='UTF-8')"
      ],
      "metadata": {
        "id": "y_6gkhyNSgeP"
      },
      "execution_count": 19,
      "outputs": []
    },
    {
      "cell_type": "code",
      "source": [
        "dfIris.show()"
      ],
      "metadata": {
        "colab": {
          "base_uri": "https://localhost:8080/"
        },
        "id": "7AqIFaBzVAzP",
        "outputId": "206785f7-0098-48a1-fd35-f8144473d20a"
      },
      "execution_count": 21,
      "outputs": [
        {
          "output_type": "stream",
          "name": "stdout",
          "text": [
            "+------------+-----------+------------+-----------+-----------+\n",
            "|sepal_length|sepal_width|petal_length|petal_width|      class|\n",
            "+------------+-----------+------------+-----------+-----------+\n",
            "|         5.1|        3.5|         1.4|        0.2|Iris-setosa|\n",
            "|         4.9|        3.0|         1.4|        0.2|Iris-setosa|\n",
            "|         4.7|        3.2|         1.3|        0.2|Iris-setosa|\n",
            "|         4.6|        3.1|         1.5|        0.2|Iris-setosa|\n",
            "|         5.0|        3.6|         1.4|        0.2|Iris-setosa|\n",
            "|         5.4|        3.9|         1.7|        0.4|Iris-setosa|\n",
            "|         4.6|        3.4|         1.4|        0.3|Iris-setosa|\n",
            "|         5.0|        3.4|         1.5|        0.2|Iris-setosa|\n",
            "|         4.4|        2.9|         1.4|        0.2|Iris-setosa|\n",
            "|         4.9|        3.1|         1.5|        0.1|Iris-setosa|\n",
            "|         5.4|        3.7|         1.5|        0.2|Iris-setosa|\n",
            "|         4.8|        3.4|         1.6|        0.2|Iris-setosa|\n",
            "|         4.8|        3.0|         1.4|        0.1|Iris-setosa|\n",
            "|         4.3|        3.0|         1.1|        0.1|Iris-setosa|\n",
            "|         5.8|        4.0|         1.2|        0.2|Iris-setosa|\n",
            "|         5.7|        4.4|         1.5|        0.4|Iris-setosa|\n",
            "|         5.4|        3.9|         1.3|        0.4|Iris-setosa|\n",
            "|         5.1|        3.5|         1.4|        0.3|Iris-setosa|\n",
            "|         5.7|        3.8|         1.7|        0.3|Iris-setosa|\n",
            "|         5.1|        3.8|         1.5|        0.3|Iris-setosa|\n",
            "+------------+-----------+------------+-----------+-----------+\n",
            "only showing top 20 rows\n",
            "\n"
          ]
        }
      ]
    },
    {
      "cell_type": "code",
      "source": [
        "dfIris.columns"
      ],
      "metadata": {
        "colab": {
          "base_uri": "https://localhost:8080/"
        },
        "id": "b5MMLT-Xa_eu",
        "outputId": "cbe43f32-0057-43ba-8634-914cb6717d9b"
      },
      "execution_count": 22,
      "outputs": [
        {
          "output_type": "execute_result",
          "data": {
            "text/plain": [
              "['sepal_length', 'sepal_width', 'petal_length', 'petal_width', 'class']"
            ]
          },
          "metadata": {},
          "execution_count": 22
        }
      ]
    },
    {
      "cell_type": "markdown",
      "source": [
        "##Data format conversion"
      ],
      "metadata": {
        "id": "l5UgnJR3b7F6"
      }
    },
    {
      "cell_type": "code",
      "source": [
        "from pyspark.ml.feature import VectorAssembler\n",
        "\n",
        "assembler = VectorAssembler(inputCols=df.columns[0:4], outputCol=\"variable\")\n",
        "\n",
        "feature_vectors = assembler.transform(dfIris)\n",
        "feature_vectors.show(truncate=False)"
      ],
      "metadata": {
        "outputId": "367f0e1d-3e9b-441e-c6d0-e1ce893461b1",
        "colab": {
          "base_uri": "https://localhost:8080/"
        },
        "id": "_F4XijOnZzf2"
      },
      "execution_count": 23,
      "outputs": [
        {
          "output_type": "stream",
          "name": "stdout",
          "text": [
            "+------------+-----------+------------+-----------+-----------+-----------------+\n",
            "|sepal_length|sepal_width|petal_length|petal_width|class      |variable         |\n",
            "+------------+-----------+------------+-----------+-----------+-----------------+\n",
            "|5.1         |3.5        |1.4         |0.2        |Iris-setosa|[5.1,3.5,1.4,0.2]|\n",
            "|4.9         |3.0        |1.4         |0.2        |Iris-setosa|[4.9,3.0,1.4,0.2]|\n",
            "|4.7         |3.2        |1.3         |0.2        |Iris-setosa|[4.7,3.2,1.3,0.2]|\n",
            "|4.6         |3.1        |1.5         |0.2        |Iris-setosa|[4.6,3.1,1.5,0.2]|\n",
            "|5.0         |3.6        |1.4         |0.2        |Iris-setosa|[5.0,3.6,1.4,0.2]|\n",
            "|5.4         |3.9        |1.7         |0.4        |Iris-setosa|[5.4,3.9,1.7,0.4]|\n",
            "|4.6         |3.4        |1.4         |0.3        |Iris-setosa|[4.6,3.4,1.4,0.3]|\n",
            "|5.0         |3.4        |1.5         |0.2        |Iris-setosa|[5.0,3.4,1.5,0.2]|\n",
            "|4.4         |2.9        |1.4         |0.2        |Iris-setosa|[4.4,2.9,1.4,0.2]|\n",
            "|4.9         |3.1        |1.5         |0.1        |Iris-setosa|[4.9,3.1,1.5,0.1]|\n",
            "|5.4         |3.7        |1.5         |0.2        |Iris-setosa|[5.4,3.7,1.5,0.2]|\n",
            "|4.8         |3.4        |1.6         |0.2        |Iris-setosa|[4.8,3.4,1.6,0.2]|\n",
            "|4.8         |3.0        |1.4         |0.1        |Iris-setosa|[4.8,3.0,1.4,0.1]|\n",
            "|4.3         |3.0        |1.1         |0.1        |Iris-setosa|[4.3,3.0,1.1,0.1]|\n",
            "|5.8         |4.0        |1.2         |0.2        |Iris-setosa|[5.8,4.0,1.2,0.2]|\n",
            "|5.7         |4.4        |1.5         |0.4        |Iris-setosa|[5.7,4.4,1.5,0.4]|\n",
            "|5.4         |3.9        |1.3         |0.4        |Iris-setosa|[5.4,3.9,1.3,0.4]|\n",
            "|5.1         |3.5        |1.4         |0.3        |Iris-setosa|[5.1,3.5,1.4,0.3]|\n",
            "|5.7         |3.8        |1.7         |0.3        |Iris-setosa|[5.7,3.8,1.7,0.3]|\n",
            "|5.1         |3.8        |1.5         |0.3        |Iris-setosa|[5.1,3.8,1.5,0.3]|\n",
            "+------------+-----------+------------+-----------+-----------+-----------------+\n",
            "only showing top 20 rows\n",
            "\n"
          ]
        }
      ]
    },
    {
      "cell_type": "markdown",
      "source": [
        "##Normalisé le resultat"
      ],
      "metadata": {
        "id": "-48GIO08l8oN"
      }
    },
    {
      "cell_type": "code",
      "source": [
        "from pyspark.ml.feature import StandardScaler\n",
        "scaler = StandardScaler(inputCol=\"variable\", outputCol=\"Standardized\", withStd=True, withMean=True)\n",
        "scalerModel = scaler.fit(feature_vectors)\n",
        "std_feature_vectors = scalerModel.transform(feature_vectors)\n",
        "std_feature_vectors.select(\"Standardized\").show(truncate=False)"
      ],
      "metadata": {
        "colab": {
          "base_uri": "https://localhost:8080/"
        },
        "id": "MOk8AKuGlYcK",
        "outputId": "2c138e62-a5b6-4feb-d915-7bd0bbd5a480"
      },
      "execution_count": 27,
      "outputs": [
        {
          "output_type": "stream",
          "name": "stdout",
          "text": [
            "+---------------------------------------------------------------------------------+\n",
            "|Standardized                                                                     |\n",
            "+---------------------------------------------------------------------------------+\n",
            "|[-0.8976738791967643,1.0286112808972372,-1.3367940202882502,-1.308592819437957]  |\n",
            "|[-1.1392004834649512,-0.12454037930145648,-1.3367940202882502,-1.308592819437957]|\n",
            "|[-1.3807270877331392,0.33672028477802146,-1.393469854952817,-1.308592819437957]  |\n",
            "|[-1.5014903898672336,0.10608995273828248,-1.2801181856236834,-1.308592819437957] |\n",
            "|[-1.0184371813308577,1.2592416129369763,-1.3367940202882502,-1.308592819437957]  |\n",
            "|[-0.5353839727944818,1.951132609056192,-1.16676651629455,-1.046524831566537]     |\n",
            "|[-1.5014903898672336,0.7979809488574984,-1.3367940202882502,-1.177558825502247]  |\n",
            "|[-1.0184371813308577,0.7979809488574984,-1.2801181856236834,-1.308592819437957]  |\n",
            "|[-1.7430169941354205,-0.35517071134119543,-1.3367940202882502,-1.308592819437957]|\n",
            "|[-1.1392004834649512,0.10608995273828248,-1.2801181856236834,-1.439626813373667] |\n",
            "|[-0.5353839727944818,1.4898719449767153,-1.2801181856236834,-1.308592819437957]  |\n",
            "|[-1.2599637855990458,0.7979809488574984,-1.2234423509591166,-1.308592819437957]  |\n",
            "|[-1.2599637855990458,-0.12454037930145648,-1.3367940202882502,-1.439626813373667]|\n",
            "|[-1.8637802962695151,-0.12454037930145648,-1.5068215242819507,-1.439626813373667]|\n",
            "|[-0.05233076425810695,2.181762941095931,-1.450145689617384,-1.308592819437957]   |\n",
            "|[-0.1730940663922004,3.1042842692548867,-1.2801181856236834,-1.046524831566537]  |\n",
            "|[-0.5353839727944818,1.951132609056192,-1.393469854952817,-1.046524831566537]    |\n",
            "|[-0.8976738791967643,1.0286112808972372,-1.3367940202882502,-1.177558825502247]  |\n",
            "|[-0.1730940663922004,1.720502277016453,-1.16676651629455,-1.177558825502247]     |\n",
            "|[-0.8976738791967643,1.720502277016453,-1.2801181856236834,-1.177558825502247]   |\n",
            "+---------------------------------------------------------------------------------+\n",
            "only showing top 20 rows\n",
            "\n"
          ]
        }
      ]
    },
    {
      "cell_type": "markdown",
      "source": [
        "##Application de l'ACP (deux features)"
      ],
      "metadata": {
        "id": "kybB4T1wmft1"
      }
    },
    {
      "cell_type": "code",
      "source": [
        "from pyspark.ml.feature import PCA\n",
        "\n",
        "# build PCA model\n",
        "pca = PCA(k=2, inputCol=\"Standardized\", outputCol=\"Main component score\")\n",
        "pcaModel = pca.fit(std_feature_vectors)\n",
        "\n",
        "print(\"====Eigenvector====\")\n",
        "print(pcaModel.pc)\n",
        "\n",
        "print(\"====Contribution rate====\")\n",
        "print(pcaModel.explainedVariance)\n",
        "\n",
        "pca_score = pcaModel.transform(std_feature_vectors).select(\"Main component score\")\n",
        "\n",
        "\n",
        "pca_score.show(truncate=False)"
      ],
      "metadata": {
        "colab": {
          "base_uri": "https://localhost:8080/"
        },
        "id": "xh5uAaPMmFty",
        "outputId": "6fae01d7-51b6-40f5-d015-4709f7dd0705"
      },
      "execution_count": 31,
      "outputs": [
        {
          "output_type": "stream",
          "name": "stdout",
          "text": [
            "====Eigenvector====\n",
            "DenseMatrix([[-0.52237162, -0.37231836],\n",
            "             [ 0.26335492, -0.92555649],\n",
            "             [-0.58125401, -0.02109478],\n",
            "             [-0.56561105, -0.06541577]])\n",
            "====Contribution rate====\n",
            "[0.7277045209380137,0.23030523267680608]\n",
            "+-----------------------------------------+\n",
            "|Main component score                     |\n",
            "+-----------------------------------------+\n",
            "|[2.2569806330680264,-0.5040154042276581] |\n",
            "|[2.079459118895403,0.6532163936125837]   |\n",
            "|[2.360044081584208,0.317413944570277]    |\n",
            "|[2.296503660003885,0.5734466129712272]   |\n",
            "|[2.380801586452744,-0.6725144107910821]  |\n",
            "|[2.0636234763372356,-1.5134782667356748] |\n",
            "|[2.437545335732414,-0.07431371713320101] |\n",
            "|[2.226383267407072,-0.24678717174216824] |\n",
            "|[2.334138096440084,1.091489770195829]    |\n",
            "|[2.1813679694194783,0.4471311174501041]  |\n",
            "|[2.1562628748102597,-1.0670209564555646] |\n",
            "|[2.3196068551308358,-0.15805794582010124]|\n",
            "|[2.2166567155972636,0.7067504781046756]  |\n",
            "|[2.6309024924632047,0.9351491453748151]  |\n",
            "|[2.1849716499715552,-1.8836680489153381] |\n",
            "|[2.243947780527031,-2.7132813314101405]  |\n",
            "|[2.1953957000147133,-1.508696010397513]  |\n",
            "|[2.1828663581877326,-0.5125870937164463] |\n",
            "|[1.8877501541896784,-1.4263323606900702] |\n",
            "|[2.3321361969578165,-1.1541668625011672] |\n",
            "+-----------------------------------------+\n",
            "only showing top 20 rows\n",
            "\n"
          ]
        }
      ]
    },
    {
      "cell_type": "code",
      "source": [
        "import matplotlib.pyplot as plt\n",
        "pdf = pca_score.toPandas()\n",
        "X=[]\n",
        "Y=[]\n",
        "for i in range(0,len(pdf)):\n",
        "  X.append(pdf['Main component score'][i][0])\n",
        "  Y.append(pdf['Main component score'][i][1])\n",
        "\n",
        "plt.scatter(X, Y, c = 'red')"
      ],
      "metadata": {
        "colab": {
          "base_uri": "https://localhost:8080/",
          "height": 283
        },
        "id": "KFNJE3RXm457",
        "outputId": "2014ca90-81f9-4d26-9d4e-49f0f687397e"
      },
      "execution_count": 58,
      "outputs": [
        {
          "output_type": "execute_result",
          "data": {
            "text/plain": [
              "<matplotlib.collections.PathCollection at 0x7fde3ee4b6d0>"
            ]
          },
          "metadata": {},
          "execution_count": 58
        },
        {
          "output_type": "display_data",
          "data": {
            "image/png": "[encoded data removed]",
            "text/plain": [
              "<Figure size 432x288 with 1 Axes>"
            ]
          },
          "metadata": {
            "needs_background": "light"
          }
        }
      ]
    }
  ]
}