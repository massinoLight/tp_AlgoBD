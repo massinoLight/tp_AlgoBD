{
  "nbformat": 4,
  "nbformat_minor": 0,
  "metadata": {
    "colab": {
      "name": "TP_Kmeans.ipynb",
      "provenance": [],
      "collapsed_sections": [],
      "authorship_tag": "ABX9TyOmSEkIR+L0XjKErpa337j0",
      "include_colab_link": true
    },
    "kernelspec": {
      "name": "python3",
      "display_name": "Python 3"
    },
    "language_info": {
      "name": "python"
    }
  },
  "cells": [
    {
      "cell_type": "markdown",
      "metadata": {
        "id": "view-in-github",
        "colab_type": "text"
      },
      "source": [
        "<a href=\"https://colab.research.google.com/github/massinoLight/tp_AlgoBD/blob/main/TP_Kmeans.ipynb\" target=\"_parent\"><img src=\"https://colab.research.google.com/assets/colab-badge.svg\" alt=\"Open In Colab\"/></a>"
      ]
    },
    {
      "cell_type": "code",
      "execution_count": 29,
      "metadata": {
        "colab": {
          "base_uri": "https://localhost:8080/"
        },
        "id": "3v840juAT-8e",
        "outputId": "59e23202-d236-4291-ed86-d1c59d0c2920"
      },
      "outputs": [
        {
          "output_type": "stream",
          "name": "stdout",
          "text": [
            "Requirement already satisfied: pyspark in /usr/local/lib/python3.7/dist-packages (3.2.1)\n",
            "Requirement already satisfied: py4j==0.10.9.3 in /usr/local/lib/python3.7/dist-packages (from pyspark) (0.10.9.3)\n"
          ]
        }
      ],
      "source": [
        "pip install pyspark"
      ]
    },
    {
      "cell_type": "markdown",
      "source": [
        "##On charge le fichier de data set"
      ],
      "metadata": {
        "id": "dr66zXFCUpgM"
      }
    },
    {
      "cell_type": "code",
      "source": [
        "import requests \n",
        "file_url = \"https://raw.githubusercontent.com/apache/spark/master/data/mllib/kmeans_data.txt\"\n",
        "\t\n",
        "r = requests.get(file_url, stream = True) \n",
        "\n",
        "with open(\"/content/sample_data/kmeans_data.txt\", \"wb\") as file: \n",
        "\tfor block in r.iter_content(chunk_size = 1024): \n",
        "\t\tif block: \n",
        "\t\t\tfile.write(block) "
      ],
      "metadata": {
        "id": "9rsFMJu7Uk8-"
      },
      "execution_count": 2,
      "outputs": []
    },
    {
      "cell_type": "markdown",
      "source": [
        "##Spark context"
      ],
      "metadata": {
        "id": "u9oFGJIpVB4q"
      }
    },
    {
      "cell_type": "code",
      "source": [
        "from numpy import array\n",
        "from math import sqrt\n",
        "import sys\n",
        "\n",
        "from pyspark import SparkContext\n",
        "from pyspark.mllib.clustering import KMeans, KMeansModel\n",
        "\n",
        "\n",
        "sc = SparkContext(appName=\"KMeansExample\")  "
      ],
      "metadata": {
        "id": "117eF8Q_U9MH"
      },
      "execution_count": 10,
      "outputs": []
    },
    {
      "cell_type": "markdown",
      "source": [
        "##Determiner notre modéle (nb cluster=3,nb iteration=10)"
      ],
      "metadata": {
        "id": "gg70vaQhVrL6"
      }
    },
    {
      "cell_type": "code",
      "source": [
        "data = sc.textFile(\"/content/sample_data/kmeans_data.txt\")\n",
        "parsedData = data.map(lambda line: array([float(x) for x in line.split(' ')]))\n",
        "\n",
        "clusters = KMeans.train(parsedData, 3, maxIterations=10, initializationMode=\"random\")\n",
        "\n",
        "def error(point):\n",
        "        center = clusters.centers[clusters.predict(point)]\n",
        "        return sqrt(sum([x**2 for x in (point - center)]))\n",
        "\n",
        "WSSSE = parsedData.map(lambda point: error(point)).reduce(lambda x, y: x + y)\n",
        "print(\"Within Set Sum of Squared Error = \" + str(WSSSE))\n",
        "\n",
        "    \n",
        "\n",
        "    \n",
        "\n"
      ],
      "metadata": {
        "colab": {
          "base_uri": "https://localhost:8080/"
        },
        "id": "aPgq32zwVHY8",
        "outputId": "e88f45d5-a63a-4d02-e87c-526a8fe6e7bd"
      },
      "execution_count": 26,
      "outputs": [
        {
          "output_type": "stream",
          "name": "stdout",
          "text": [
            "Within Set Sum of Squared Error = 0.519615242270665\n"
          ]
        }
      ]
    },
    {
      "cell_type": "code",
      "source": [
        "clusters.save(sc, \"model/Kmeans/KMeansModel\")\n",
        "sameModel = KMeansModel.load(sc, \"model/Kmeans/KMeansModel\")"
      ],
      "metadata": {
        "id": "AvjHhdRJVRh9"
      },
      "execution_count": null,
      "outputs": []
    },
    {
      "cell_type": "code",
      "source": [
        "sc.stop()"
      ],
      "metadata": {
        "id": "3H5MH6DMX2zU"
      },
      "execution_count": 11,
      "outputs": []
    },
    {
      "cell_type": "markdown",
      "source": [
        "##Exemple 2"
      ],
      "metadata": {
        "id": "15DYqyuiXiJk"
      }
    },
    {
      "cell_type": "markdown",
      "source": [
        "##Load data"
      ],
      "metadata": {
        "id": "36lvBQBdXmNP"
      }
    },
    {
      "cell_type": "code",
      "source": [
        "import requests \n",
        "file_url = \"https://raw.githubusercontent.com/massinoLight/tp_AlgoBD/main/3D_spatial_network.txt\"\n",
        "\t\n",
        "r = requests.get(file_url, stream = True) \n",
        "\n",
        "with open(\"/content/sample_data/3D_spatial_network.txt\", \"wb\") as file: \n",
        "\tfor block in r.iter_content(chunk_size = 1024): \n",
        "\t\tif block: \n",
        "\t\t\tfile.write(block) "
      ],
      "metadata": {
        "id": "jJO4AVYSXedz"
      },
      "execution_count": 30,
      "outputs": []
    },
    {
      "cell_type": "markdown",
      "source": [
        "##Fonction pour préparer le jeu de données"
      ],
      "metadata": {
        "id": "sYrHIBpFYOeb"
      }
    },
    {
      "cell_type": "code",
      "source": [
        "def parseVector(line):\n",
        "    return np.array([float(x) for x in line.split(',')])\n",
        "\n"
      ],
      "metadata": {
        "id": "uwWgYVReX8r8"
      },
      "execution_count": 31,
      "outputs": []
    },
    {
      "cell_type": "code",
      "source": [
        "sc = SparkContext(appName=\"KMeans\")\n"
      ],
      "metadata": {
        "id": "pYAVtKYtYeTY"
      },
      "execution_count": 34,
      "outputs": []
    },
    {
      "cell_type": "markdown",
      "source": [
        "##test du modéle sur le 2nd jeu de données (nb cluster=3,Max iteration=20)"
      ],
      "metadata": {
        "id": "dVgiSaKClC9V"
      }
    },
    {
      "cell_type": "code",
      "source": [
        "lines = sc.textFile(\"/content/sample_data/3D_spatial_network.txt\")\n",
        "data = lines.map(parseVector)\n",
        "k = 3\n",
        "model = KMeans.train(data, k, maxIterations=20, initializationMode=\"random\")\n",
        "print(\"Final centers: \" + str(model.clusterCenters))\n",
        "print(\"Total Cost: \" + str(model.computeCost(data)))"
      ],
      "metadata": {
        "colab": {
          "base_uri": "https://localhost:8080/"
        },
        "id": "9mMGJ7UEYZbi",
        "outputId": "21afaf24-2518-4e29-91db-1c0f7967d671"
      },
      "execution_count": 37,
      "outputs": [
        {
          "output_type": "stream",
          "name": "stdout",
          "text": [
            "Final centers: [array([9.90633422e+07, 9.68557343e+00, 5.70686553e+01, 2.11937929e+01]), array([3.43385461e+07, 9.81595312e+00, 5.71211049e+01, 1.97624911e+01]), array([1.38119067e+08, 9.75145608e+00, 5.70835976e+01, 2.54127126e+01])]\n",
            "Total Cost: 5.20328439270565e+19\n"
          ]
        }
      ]
    },
    {
      "cell_type": "code",
      "source": [
        "sc.stop()"
      ],
      "metadata": {
        "id": "7swym0vwZHUo"
      },
      "execution_count": 33,
      "outputs": []
    }
  ]
}