{
  "nbformat": 4,
  "nbformat_minor": 0,
  "metadata": {
    "colab": {
      "name": "TP_Kmeans.ipynb",
      "provenance": [],
      "collapsed_sections": [],
      "authorship_tag": "ABX9TyOZrgdAeyNK/pKLxW70sQWH",
      "include_colab_link": true
    },
    "kernelspec": {
      "name": "python3",
      "display_name": "Python 3"
    },
    "language_info": {
      "name": "python"
    }
  },
  "cells": [
    {
      "cell_type": "markdown",
      "metadata": {
        "id": "view-in-github",
        "colab_type": "text"
      },
      "source": [
        "<a href=\"https://colab.research.google.com/github/massinoLight/tp_AlgoBD/blob/main/TP_Kmeans.ipynb\" target=\"_parent\"><img src=\"https://colab.research.google.com/assets/colab-badge.svg\" alt=\"Open In Colab\"/></a>"
      ]
    },
    {
      "cell_type": "code",
      "execution_count": 1,
      "metadata": {
        "colab": {
          "base_uri": "https://localhost:8080/"
        },
        "id": "3v840juAT-8e",
        "outputId": "d3093117-45fe-4489-a774-d876f1015ad1"
      },
      "outputs": [
        {
          "output_type": "stream",
          "name": "stdout",
          "text": [
            "Collecting pyspark\n",
            "  Downloading pyspark-3.2.1.tar.gz (281.4 MB)\n",
            "\u001b[K     |████████████████████████████████| 281.4 MB 33 kB/s \n",
            "\u001b[?25hCollecting py4j==0.10.9.3\n",
            "  Downloading py4j-0.10.9.3-py2.py3-none-any.whl (198 kB)\n",
            "\u001b[K     |████████████████████████████████| 198 kB 51.4 MB/s \n",
            "\u001b[?25hBuilding wheels for collected packages: pyspark\n",
            "  Building wheel for pyspark (setup.py) ... \u001b[?25l\u001b[?25hdone\n",
            "  Created wheel for pyspark: filename=pyspark-3.2.1-py2.py3-none-any.whl size=281853642 sha256=daa68dc8ee00d626516d5f40bfa1aaaa52c2c3d4e982c5b59272d93ed6cf3362\n",
            "  Stored in directory: /root/.cache/pip/wheels/9f/f5/07/7cd8017084dce4e93e84e92efd1e1d5334db05f2e83bcef74f\n",
            "Successfully built pyspark\n",
            "Installing collected packages: py4j, pyspark\n",
            "Successfully installed py4j-0.10.9.3 pyspark-3.2.1\n"
          ]
        }
      ],
      "source": [
        "pip install pyspark"
      ]
    },
    {
      "cell_type": "markdown",
      "source": [
        "##On charge le fichier de data set"
      ],
      "metadata": {
        "id": "dr66zXFCUpgM"
      }
    },
    {
      "cell_type": "code",
      "source": [
        "import requests \n",
        "file_url = \"https://raw.githubusercontent.com/apache/spark/master/data/mllib/kmeans_data.txt\"\n",
        "\t\n",
        "r = requests.get(file_url, stream = True) \n",
        "\n",
        "with open(\"/content/sample_data/kmeans_data.txt\", \"wb\") as file: \n",
        "\tfor block in r.iter_content(chunk_size = 1024): \n",
        "\t\tif block: \n",
        "\t\t\tfile.write(block) "
      ],
      "metadata": {
        "id": "9rsFMJu7Uk8-"
      },
      "execution_count": 2,
      "outputs": []
    },
    {
      "cell_type": "markdown",
      "source": [
        "##Spark context"
      ],
      "metadata": {
        "id": "u9oFGJIpVB4q"
      }
    },
    {
      "cell_type": "code",
      "source": [
        "from numpy import array\n",
        "from math import sqrt\n",
        "\n",
        "from pyspark import SparkContext\n",
        "from pyspark.mllib.clustering import KMeans, KMeansModel\n",
        "\n",
        "\n",
        "sc = SparkContext(appName=\"KMeansExample\")  "
      ],
      "metadata": {
        "id": "117eF8Q_U9MH"
      },
      "execution_count": 3,
      "outputs": []
    },
    {
      "cell_type": "markdown",
      "source": [
        "##Determiner notre modéle (nb cluster=3,nb iteration=10)"
      ],
      "metadata": {
        "id": "gg70vaQhVrL6"
      }
    },
    {
      "cell_type": "code",
      "source": [
        "data = sc.textFile(\"/content/sample_data/kmeans_data.txt\")\n",
        "parsedData = data.map(lambda line: array([float(x) for x in line.split(' ')]))\n",
        "\n",
        "clusters = KMeans.train(parsedData, 3, maxIterations=10, initializationMode=\"random\")\n",
        "\n",
        "def error(point):\n",
        "        center = clusters.centers[clusters.predict(point)]\n",
        "        return sqrt(sum([x**2 for x in (point - center)]))\n",
        "\n",
        "WSSSE = parsedData.map(lambda point: error(point)).reduce(lambda x, y: x + y)\n",
        "print(\"Within Set Sum of Squared Error = \" + str(WSSSE))\n",
        "\n",
        "    \n",
        "\n",
        "    \n",
        "\n"
      ],
      "metadata": {
        "colab": {
          "base_uri": "https://localhost:8080/"
        },
        "id": "aPgq32zwVHY8",
        "outputId": "ab1d198a-d59e-4792-e566-18ddfda32207"
      },
      "execution_count": 6,
      "outputs": [
        {
          "output_type": "stream",
          "name": "stdout",
          "text": [
            "Within Set Sum of Squared Error = 0.519615242270665\n"
          ]
        }
      ]
    },
    {
      "cell_type": "code",
      "source": [
        "clusters.save(sc, \"model/Kmeans/KMeansModel\")\n",
        "sameModel = KMeansModel.load(sc, \"model/Kmeans/KMeansModel\")"
      ],
      "metadata": {
        "id": "AvjHhdRJVRh9"
      },
      "execution_count": null,
      "outputs": []
    }
  ]
}